{
 "cells": [
  {
   "cell_type": "code",
   "execution_count": 1,
   "id": "ed4f93e2",
   "metadata": {},
   "outputs": [],
   "source": [
    "import pandas as pd\n",
    "\n",
    "matches = pd.read_csv(\"../../data/Match_Info.csv\");"
   ]
  },
  {
   "cell_type": "code",
   "execution_count": 2,
   "id": "7cf81ba8",
   "metadata": {},
   "outputs": [
    {
     "data": {
      "text/html": [
       "<div>\n",
       "<style scoped>\n",
       "    .dataframe tbody tr th:only-of-type {\n",
       "        vertical-align: middle;\n",
       "    }\n",
       "\n",
       "    .dataframe tbody tr th {\n",
       "        vertical-align: top;\n",
       "    }\n",
       "\n",
       "    .dataframe thead th {\n",
       "        text-align: right;\n",
       "    }\n",
       "</style>\n",
       "<table border=\"1\" class=\"dataframe\">\n",
       "  <thead>\n",
       "    <tr style=\"text-align: right;\">\n",
       "      <th></th>\n",
       "      <th>match_number</th>\n",
       "      <th>team1</th>\n",
       "      <th>team2</th>\n",
       "      <th>match_date</th>\n",
       "      <th>toss_winner</th>\n",
       "      <th>toss_decision</th>\n",
       "      <th>result</th>\n",
       "      <th>eliminator</th>\n",
       "      <th>winner</th>\n",
       "      <th>player_of_match</th>\n",
       "      <th>venue</th>\n",
       "      <th>city</th>\n",
       "      <th>team1_players</th>\n",
       "      <th>team2_players</th>\n",
       "    </tr>\n",
       "  </thead>\n",
       "  <tbody>\n",
       "    <tr>\n",
       "      <th>0</th>\n",
       "      <td>335988</td>\n",
       "      <td>Deccan Chargers</td>\n",
       "      <td>Delhi Daredevils</td>\n",
       "      <td>2008-04-22</td>\n",
       "      <td>Deccan Chargers</td>\n",
       "      <td>bat</td>\n",
       "      <td>Win</td>\n",
       "      <td>NaN</td>\n",
       "      <td>Delhi Daredevils</td>\n",
       "      <td>V Sehwag</td>\n",
       "      <td>Rajiv Gandhi International Stadium, Uppal</td>\n",
       "      <td>Hyderabad</td>\n",
       "      <td>AC Gilchrist, Y Venugopal Rao, VVS Laxman, A S...</td>\n",
       "      <td>G Gambhir, V Sehwag, S Dhawan, Shoaib Malik, K...</td>\n",
       "    </tr>\n",
       "    <tr>\n",
       "      <th>1</th>\n",
       "      <td>419115</td>\n",
       "      <td>Royal Challengers Bangalore</td>\n",
       "      <td>Rajasthan Royals</td>\n",
       "      <td>2010-03-18</td>\n",
       "      <td>Royal Challengers Bangalore</td>\n",
       "      <td>field</td>\n",
       "      <td>Win</td>\n",
       "      <td>NaN</td>\n",
       "      <td>Royal Challengers Bangalore</td>\n",
       "      <td>JH Kallis</td>\n",
       "      <td>M Chinnaswamy Stadium</td>\n",
       "      <td>Bangalore</td>\n",
       "      <td>MK Pandey, JH Kallis, RV Uthappa, V Kohli, R D...</td>\n",
       "      <td>NV Ojha, MJ Lumb, DR Martyn, AA Jhunjhunwala, ...</td>\n",
       "    </tr>\n",
       "    <tr>\n",
       "      <th>2</th>\n",
       "      <td>1426297</td>\n",
       "      <td>Gujarat Titans</td>\n",
       "      <td>Chennai Super Kings</td>\n",
       "      <td>2024-05-10</td>\n",
       "      <td>Chennai Super Kings</td>\n",
       "      <td>field</td>\n",
       "      <td>Win</td>\n",
       "      <td>NaN</td>\n",
       "      <td>Gujarat Titans</td>\n",
       "      <td>Shubman Gill</td>\n",
       "      <td>Narendra Modi Stadium, Ahmedabad</td>\n",
       "      <td>Ahmedabad</td>\n",
       "      <td>S Sandeep Warrier, B Sai Sudharsan, Shubman Gi...</td>\n",
       "      <td>TU Deshpande, AM Rahane, R Ravindra, RD Gaikwa...</td>\n",
       "    </tr>\n",
       "    <tr>\n",
       "      <th>3</th>\n",
       "      <td>335982</td>\n",
       "      <td>Royal Challengers Bangalore</td>\n",
       "      <td>Kolkata Knight Riders</td>\n",
       "      <td>2008-04-18</td>\n",
       "      <td>Royal Challengers Bangalore</td>\n",
       "      <td>field</td>\n",
       "      <td>Win</td>\n",
       "      <td>NaN</td>\n",
       "      <td>Kolkata Knight Riders</td>\n",
       "      <td>BB McCullum</td>\n",
       "      <td>M Chinnaswamy Stadium</td>\n",
       "      <td>Bangalore</td>\n",
       "      <td>R Dravid, W Jaffer, V Kohli, JH Kallis, CL Whi...</td>\n",
       "      <td>SC Ganguly, BB McCullum, RT Ponting, DJ Hussey...</td>\n",
       "    </tr>\n",
       "    <tr>\n",
       "      <th>4</th>\n",
       "      <td>981019</td>\n",
       "      <td>Royal Challengers Bangalore</td>\n",
       "      <td>Sunrisers Hyderabad</td>\n",
       "      <td>2016-05-29</td>\n",
       "      <td>Sunrisers Hyderabad</td>\n",
       "      <td>bat</td>\n",
       "      <td>Win</td>\n",
       "      <td>NaN</td>\n",
       "      <td>Sunrisers Hyderabad</td>\n",
       "      <td>BCJ Cutting</td>\n",
       "      <td>M Chinnaswamy Stadium</td>\n",
       "      <td>Bangalore</td>\n",
       "      <td>CH Gayle, V Kohli, AB de Villiers, KL Rahul, S...</td>\n",
       "      <td>DA Warner, S Dhawan, MC Henriques, Yuvraj Sing...</td>\n",
       "    </tr>\n",
       "  </tbody>\n",
       "</table>\n",
       "</div>"
      ],
      "text/plain": [
       "   match_number                        team1                  team2  \\\n",
       "0        335988              Deccan Chargers       Delhi Daredevils   \n",
       "1        419115  Royal Challengers Bangalore       Rajasthan Royals   \n",
       "2       1426297               Gujarat Titans    Chennai Super Kings   \n",
       "3        335982  Royal Challengers Bangalore  Kolkata Knight Riders   \n",
       "4        981019  Royal Challengers Bangalore    Sunrisers Hyderabad   \n",
       "\n",
       "   match_date                  toss_winner toss_decision result eliminator  \\\n",
       "0  2008-04-22              Deccan Chargers           bat    Win        NaN   \n",
       "1  2010-03-18  Royal Challengers Bangalore         field    Win        NaN   \n",
       "2  2024-05-10          Chennai Super Kings         field    Win        NaN   \n",
       "3  2008-04-18  Royal Challengers Bangalore         field    Win        NaN   \n",
       "4  2016-05-29          Sunrisers Hyderabad           bat    Win        NaN   \n",
       "\n",
       "                        winner player_of_match  \\\n",
       "0             Delhi Daredevils        V Sehwag   \n",
       "1  Royal Challengers Bangalore       JH Kallis   \n",
       "2               Gujarat Titans    Shubman Gill   \n",
       "3        Kolkata Knight Riders     BB McCullum   \n",
       "4          Sunrisers Hyderabad     BCJ Cutting   \n",
       "\n",
       "                                       venue       city  \\\n",
       "0  Rajiv Gandhi International Stadium, Uppal  Hyderabad   \n",
       "1                      M Chinnaswamy Stadium  Bangalore   \n",
       "2           Narendra Modi Stadium, Ahmedabad  Ahmedabad   \n",
       "3                      M Chinnaswamy Stadium  Bangalore   \n",
       "4                      M Chinnaswamy Stadium  Bangalore   \n",
       "\n",
       "                                       team1_players  \\\n",
       "0  AC Gilchrist, Y Venugopal Rao, VVS Laxman, A S...   \n",
       "1  MK Pandey, JH Kallis, RV Uthappa, V Kohli, R D...   \n",
       "2  S Sandeep Warrier, B Sai Sudharsan, Shubman Gi...   \n",
       "3  R Dravid, W Jaffer, V Kohli, JH Kallis, CL Whi...   \n",
       "4  CH Gayle, V Kohli, AB de Villiers, KL Rahul, S...   \n",
       "\n",
       "                                       team2_players  \n",
       "0  G Gambhir, V Sehwag, S Dhawan, Shoaib Malik, K...  \n",
       "1  NV Ojha, MJ Lumb, DR Martyn, AA Jhunjhunwala, ...  \n",
       "2  TU Deshpande, AM Rahane, R Ravindra, RD Gaikwa...  \n",
       "3  SC Ganguly, BB McCullum, RT Ponting, DJ Hussey...  \n",
       "4  DA Warner, S Dhawan, MC Henriques, Yuvraj Sing...  "
      ]
     },
     "execution_count": 2,
     "metadata": {},
     "output_type": "execute_result"
    }
   ],
   "source": [
    "matches.head()"
   ]
  },
  {
   "cell_type": "code",
   "execution_count": 3,
   "id": "f2fa2a1e",
   "metadata": {},
   "outputs": [
    {
     "data": {
      "text/plain": [
       "Index(['match_number', 'team1', 'team2', 'match_date', 'toss_winner',\n",
       "       'toss_decision', 'result', 'eliminator', 'winner', 'player_of_match',\n",
       "       'venue', 'city', 'team1_players', 'team2_players'],\n",
       "      dtype='object')"
      ]
     },
     "execution_count": 3,
     "metadata": {},
     "output_type": "execute_result"
    }
   ],
   "source": [
    "matches.columns"
   ]
  },
  {
   "cell_type": "markdown",
   "id": "02537661",
   "metadata": {},
   "source": [
    "1. Drop match_number\n",
    "2. map team1 and team2\n",
    "3. macth_date -> convert to correct format\n",
    "4. toss_winne r-> map to team id\n",
    "5. result -> we have winner team name in winner column -> result can be used for match_outcome_enum\n",
    "6. map player of the match\n",
    "7. drop team1_players and team2 players"
   ]
  },
  {
   "cell_type": "code",
   "execution_count": 4,
   "id": "aa40762b",
   "metadata": {},
   "outputs": [],
   "source": [
    "matches.drop(columns=['match_number'], inplace=True)"
   ]
  },
  {
   "cell_type": "code",
   "execution_count": 5,
   "id": "7870c1a1",
   "metadata": {},
   "outputs": [],
   "source": [
    "team = pd.read_csv(\"../../data/teams_info.csv\");"
   ]
  },
  {
   "cell_type": "code",
   "execution_count": 6,
   "id": "0d715342",
   "metadata": {},
   "outputs": [
    {
     "data": {
      "text/html": [
       "<div>\n",
       "<style scoped>\n",
       "    .dataframe tbody tr th:only-of-type {\n",
       "        vertical-align: middle;\n",
       "    }\n",
       "\n",
       "    .dataframe tbody tr th {\n",
       "        vertical-align: top;\n",
       "    }\n",
       "\n",
       "    .dataframe thead th {\n",
       "        text-align: right;\n",
       "    }\n",
       "</style>\n",
       "<table border=\"1\" class=\"dataframe\">\n",
       "  <thead>\n",
       "    <tr style=\"text-align: right;\">\n",
       "      <th></th>\n",
       "      <th>team_name</th>\n",
       "      <th>url</th>\n",
       "      <th>espn_id</th>\n",
       "    </tr>\n",
       "  </thead>\n",
       "  <tbody>\n",
       "    <tr>\n",
       "      <th>0</th>\n",
       "      <td>Mumbai Indians</td>\n",
       "      <td>https://assets.iplt20.com/ipl/MI/Logos/Logoout...</td>\n",
       "      <td>4346</td>\n",
       "    </tr>\n",
       "    <tr>\n",
       "      <th>1</th>\n",
       "      <td>Chennai Super Kings</td>\n",
       "      <td>https://assets.iplt20.com/ipl/CSK/logos/Logoou...</td>\n",
       "      <td>4343</td>\n",
       "    </tr>\n",
       "    <tr>\n",
       "      <th>2</th>\n",
       "      <td>Delhi Capitals</td>\n",
       "      <td>https://assets.iplt20.com/ipl/DC/Logos/LogoOut...</td>\n",
       "      <td>4347</td>\n",
       "    </tr>\n",
       "    <tr>\n",
       "      <th>3</th>\n",
       "      <td>Kolkata Knight Respn_iders</td>\n",
       "      <td>https://assets.iplt20.com/ipl/KKR/Logos/Logoou...</td>\n",
       "      <td>4341</td>\n",
       "    </tr>\n",
       "    <tr>\n",
       "      <th>4</th>\n",
       "      <td>Punjab Kings</td>\n",
       "      <td>https://assets.iplt20.com/ipl/PBKS/Logos/Logoo...</td>\n",
       "      <td>4342</td>\n",
       "    </tr>\n",
       "  </tbody>\n",
       "</table>\n",
       "</div>"
      ],
      "text/plain": [
       "                    team_name  \\\n",
       "0              Mumbai Indians   \n",
       "1         Chennai Super Kings   \n",
       "2              Delhi Capitals   \n",
       "3  Kolkata Knight Respn_iders   \n",
       "4                Punjab Kings   \n",
       "\n",
       "                                                 url  espn_id  \n",
       "0  https://assets.iplt20.com/ipl/MI/Logos/Logoout...     4346  \n",
       "1  https://assets.iplt20.com/ipl/CSK/logos/Logoou...     4343  \n",
       "2  https://assets.iplt20.com/ipl/DC/Logos/LogoOut...     4347  \n",
       "3  https://assets.iplt20.com/ipl/KKR/Logos/Logoou...     4341  \n",
       "4  https://assets.iplt20.com/ipl/PBKS/Logos/Logoo...     4342  "
      ]
     },
     "execution_count": 6,
     "metadata": {},
     "output_type": "execute_result"
    }
   ],
   "source": [
    "team.head()"
   ]
  },
  {
   "cell_type": "code",
   "execution_count": 7,
   "id": "5dee02aa",
   "metadata": {},
   "outputs": [
    {
     "data": {
      "text/plain": [
       "Index(['team_name', 'url', 'espn_id'], dtype='object')"
      ]
     },
     "execution_count": 7,
     "metadata": {},
     "output_type": "execute_result"
    }
   ],
   "source": [
    "team.columns"
   ]
  },
  {
   "cell_type": "markdown",
   "id": "db6b8554",
   "metadata": {},
   "source": [
    "we have drop espn_id and rename the columns"
   ]
  },
  {
   "cell_type": "code",
   "execution_count": 8,
   "id": "db08e38e",
   "metadata": {},
   "outputs": [],
   "source": [
    "team.rename(columns={\n",
    "    'team_name': 'name',\n",
    "    'url': 'logo_url'\n",
    "}, inplace=True)"
   ]
  },
  {
   "cell_type": "code",
   "execution_count": 9,
   "id": "e9f84da5",
   "metadata": {},
   "outputs": [],
   "source": [
    "team.drop(columns=['espn_id'], inplace=True)"
   ]
  },
  {
   "cell_type": "code",
   "execution_count": 10,
   "id": "4c7b1b6b",
   "metadata": {},
   "outputs": [
    {
     "data": {
      "text/plain": [
       "(19, 2)"
      ]
     },
     "execution_count": 10,
     "metadata": {},
     "output_type": "execute_result"
    }
   ],
   "source": [
    "team.shape"
   ]
  },
  {
   "cell_type": "code",
   "execution_count": 11,
   "id": "9e154b28",
   "metadata": {},
   "outputs": [
    {
     "data": {
      "text/plain": [
       "Index(['name', 'logo_url'], dtype='object')"
      ]
     },
     "execution_count": 11,
     "metadata": {},
     "output_type": "execute_result"
    }
   ],
   "source": [
    "team.columns"
   ]
  },
  {
   "cell_type": "code",
   "execution_count": 12,
   "id": "30955b27",
   "metadata": {},
   "outputs": [],
   "source": [
    "team.to_csv('cleaned_team.csv', index=False)"
   ]
  },
  {
   "cell_type": "code",
   "execution_count": 13,
   "id": "5858ea53",
   "metadata": {},
   "outputs": [],
   "source": [
    "players = pd.read_csv(\"../../data/2024_players_details.csv\");"
   ]
  },
  {
   "cell_type": "code",
   "execution_count": 14,
   "id": "584b39a2",
   "metadata": {},
   "outputs": [
    {
     "data": {
      "text/html": [
       "<div>\n",
       "<style scoped>\n",
       "    .dataframe tbody tr th:only-of-type {\n",
       "        vertical-align: middle;\n",
       "    }\n",
       "\n",
       "    .dataframe tbody tr th {\n",
       "        vertical-align: top;\n",
       "    }\n",
       "\n",
       "    .dataframe thead th {\n",
       "        text-align: right;\n",
       "    }\n",
       "</style>\n",
       "<table border=\"1\" class=\"dataframe\">\n",
       "  <thead>\n",
       "    <tr style=\"text-align: right;\">\n",
       "      <th></th>\n",
       "      <th>ID</th>\n",
       "      <th>Name</th>\n",
       "      <th>longName</th>\n",
       "      <th>battingName</th>\n",
       "      <th>fieldingName</th>\n",
       "      <th>imgUrl</th>\n",
       "      <th>dob</th>\n",
       "      <th>battingStyles</th>\n",
       "      <th>longBattingStyles</th>\n",
       "      <th>bowlingStyles</th>\n",
       "      <th>longBowlingStyles</th>\n",
       "      <th>playingRoles</th>\n",
       "      <th>espn_url</th>\n",
       "    </tr>\n",
       "  </thead>\n",
       "  <tbody>\n",
       "    <tr>\n",
       "      <th>0</th>\n",
       "      <td>95094</td>\n",
       "      <td>RD Gaikwad</td>\n",
       "      <td>Ruturaj Gaikwad</td>\n",
       "      <td>RD Gaikwad</td>\n",
       "      <td>Gaikwad</td>\n",
       "      <td>https://img1.hscicdn.com/image/upload/f_auto,t...</td>\n",
       "      <td>31/1/1997</td>\n",
       "      <td>rhb</td>\n",
       "      <td>right-hand bat</td>\n",
       "      <td>ob</td>\n",
       "      <td>right-arm offbreak</td>\n",
       "      <td>ob</td>\n",
       "      <td>https://www.espncricinfo.com/cricketers/rutura...</td>\n",
       "    </tr>\n",
       "    <tr>\n",
       "      <th>1</th>\n",
       "      <td>46597</td>\n",
       "      <td>MM Ali</td>\n",
       "      <td>Moeen Ali</td>\n",
       "      <td>MM Ali</td>\n",
       "      <td>Ali</td>\n",
       "      <td>https://img1.hscicdn.com/image/upload/f_auto,t...</td>\n",
       "      <td>18/6/1987</td>\n",
       "      <td>lhb</td>\n",
       "      <td>left-hand bat</td>\n",
       "      <td>ob</td>\n",
       "      <td>right-arm offbreak</td>\n",
       "      <td>ob</td>\n",
       "      <td>https://www.espncricinfo.com/cricketers/moeen-...</td>\n",
       "    </tr>\n",
       "    <tr>\n",
       "      <th>2</th>\n",
       "      <td>116328</td>\n",
       "      <td>Aravelly Avanish</td>\n",
       "      <td>Aravelly Avanish</td>\n",
       "      <td>Aravelly Avanish</td>\n",
       "      <td>Aravelly Avanish</td>\n",
       "      <td>https://img1.hscicdn.com/image/upload/f_auto,t...</td>\n",
       "      <td>2/6/2005</td>\n",
       "      <td>lhb</td>\n",
       "      <td>left-hand bat</td>\n",
       "      <td>Na</td>\n",
       "      <td>Na</td>\n",
       "      <td>NaN</td>\n",
       "      <td>https://www.espncricinfo.com/cricketers/aravel...</td>\n",
       "    </tr>\n",
       "    <tr>\n",
       "      <th>3</th>\n",
       "      <td>62022</td>\n",
       "      <td>DL Chahar</td>\n",
       "      <td>Deepak Chahar</td>\n",
       "      <td>DL Chahar</td>\n",
       "      <td>Chahar</td>\n",
       "      <td>https://img1.hscicdn.com/image/upload/f_auto,t...</td>\n",
       "      <td>7/8/1992</td>\n",
       "      <td>rhb</td>\n",
       "      <td>right-hand bat</td>\n",
       "      <td>rm</td>\n",
       "      <td>right-arm medium</td>\n",
       "      <td>rm</td>\n",
       "      <td>https://www.espncricinfo.com/cricketers/deepak...</td>\n",
       "    </tr>\n",
       "    <tr>\n",
       "      <th>4</th>\n",
       "      <td>80607</td>\n",
       "      <td>TU Deshpande</td>\n",
       "      <td>Tushar Deshpande</td>\n",
       "      <td>TU Deshpande</td>\n",
       "      <td>Deshpande</td>\n",
       "      <td>https://img1.hscicdn.com/image/upload/f_auto,t...</td>\n",
       "      <td>15/5/1995</td>\n",
       "      <td>lhb</td>\n",
       "      <td>left-hand bat</td>\n",
       "      <td>rm</td>\n",
       "      <td>right-arm medium</td>\n",
       "      <td>rm</td>\n",
       "      <td>https://www.espncricinfo.com/cricketers/tushar...</td>\n",
       "    </tr>\n",
       "  </tbody>\n",
       "</table>\n",
       "</div>"
      ],
      "text/plain": [
       "       ID              Name          longName       battingName  \\\n",
       "0   95094        RD Gaikwad   Ruturaj Gaikwad        RD Gaikwad   \n",
       "1   46597            MM Ali         Moeen Ali            MM Ali   \n",
       "2  116328  Aravelly Avanish  Aravelly Avanish  Aravelly Avanish   \n",
       "3   62022         DL Chahar     Deepak Chahar         DL Chahar   \n",
       "4   80607      TU Deshpande  Tushar Deshpande      TU Deshpande   \n",
       "\n",
       "       fieldingName                                             imgUrl  \\\n",
       "0           Gaikwad  https://img1.hscicdn.com/image/upload/f_auto,t...   \n",
       "1               Ali  https://img1.hscicdn.com/image/upload/f_auto,t...   \n",
       "2  Aravelly Avanish  https://img1.hscicdn.com/image/upload/f_auto,t...   \n",
       "3            Chahar  https://img1.hscicdn.com/image/upload/f_auto,t...   \n",
       "4         Deshpande  https://img1.hscicdn.com/image/upload/f_auto,t...   \n",
       "\n",
       "         dob battingStyles longBattingStyles bowlingStyles  \\\n",
       "0  31/1/1997           rhb    right-hand bat            ob   \n",
       "1  18/6/1987           lhb     left-hand bat            ob   \n",
       "2   2/6/2005           lhb     left-hand bat            Na   \n",
       "3   7/8/1992           rhb    right-hand bat            rm   \n",
       "4  15/5/1995           lhb     left-hand bat            rm   \n",
       "\n",
       "    longBowlingStyles playingRoles  \\\n",
       "0  right-arm offbreak           ob   \n",
       "1  right-arm offbreak           ob   \n",
       "2                  Na          NaN   \n",
       "3    right-arm medium           rm   \n",
       "4    right-arm medium           rm   \n",
       "\n",
       "                                            espn_url  \n",
       "0  https://www.espncricinfo.com/cricketers/rutura...  \n",
       "1  https://www.espncricinfo.com/cricketers/moeen-...  \n",
       "2  https://www.espncricinfo.com/cricketers/aravel...  \n",
       "3  https://www.espncricinfo.com/cricketers/deepak...  \n",
       "4  https://www.espncricinfo.com/cricketers/tushar...  "
      ]
     },
     "execution_count": 14,
     "metadata": {},
     "output_type": "execute_result"
    }
   ],
   "source": [
    "players.head()"
   ]
  },
  {
   "cell_type": "markdown",
   "id": "c2fdf32a",
   "metadata": {},
   "source": [
    "Drop - ID, Name, battingStyles, bowlingStyles, playingroles, espn_url\n",
    "Longname - will be name for our dataset\n",
    "dob - is in date/month/year - is there need to change this format\n",
    "We have to rename the columns too accordong to database table also"
   ]
  },
  {
   "cell_type": "code",
   "execution_count": 15,
   "id": "d04e23d5",
   "metadata": {},
   "outputs": [
    {
     "data": {
      "text/plain": [
       "Index(['ID', 'Name', 'longName', 'battingName', 'fieldingName', 'imgUrl',\n",
       "       'dob', 'battingStyles', 'longBattingStyles', 'bowlingStyles',\n",
       "       'longBowlingStyles', 'playingRoles', 'espn_url'],\n",
       "      dtype='object')"
      ]
     },
     "execution_count": 15,
     "metadata": {},
     "output_type": "execute_result"
    }
   ],
   "source": [
    "players.columns"
   ]
  },
  {
   "cell_type": "code",
   "execution_count": 16,
   "id": "8f726580",
   "metadata": {},
   "outputs": [],
   "source": [
    "players.drop(columns=['ID', 'Name', 'battingStyles', 'bowlingStyles', 'playingRoles', 'espn_url'], inplace=True)"
   ]
  },
  {
   "cell_type": "code",
   "execution_count": 17,
   "id": "e8e783d8",
   "metadata": {},
   "outputs": [],
   "source": [
    "players.rename(columns={\n",
    "    'longName': 'name',\n",
    "    'battingName': 'batting_name',\n",
    "    'fieldingName': 'fielding_name',\n",
    "    'imgUrl': 'img_url',\n",
    "    'dob': 'dob',\n",
    "    'longBattingStyles': 'batting_style',\n",
    "    'longBowlingStyles': 'bowling_style'\n",
    "}, inplace=True)"
   ]
  },
  {
   "cell_type": "code",
   "execution_count": 18,
   "id": "ef312e0a",
   "metadata": {},
   "outputs": [],
   "source": [
    "players['dob'] = pd.to_datetime(players['dob'], dayfirst=True).dt.date"
   ]
  },
  {
   "cell_type": "code",
   "execution_count": 19,
   "id": "6cda86eb",
   "metadata": {},
   "outputs": [
    {
     "data": {
      "text/plain": [
       "(261, 7)"
      ]
     },
     "execution_count": 19,
     "metadata": {},
     "output_type": "execute_result"
    }
   ],
   "source": [
    "players.shape"
   ]
  },
  {
   "cell_type": "code",
   "execution_count": 20,
   "id": "9c69f5ab",
   "metadata": {},
   "outputs": [
    {
     "data": {
      "text/plain": [
       "Index(['name', 'batting_name', 'fielding_name', 'img_url', 'dob',\n",
       "       'batting_style', 'bowling_style'],\n",
       "      dtype='object')"
      ]
     },
     "execution_count": 20,
     "metadata": {},
     "output_type": "execute_result"
    }
   ],
   "source": [
    "players.columns"
   ]
  },
  {
   "cell_type": "code",
   "execution_count": 21,
   "id": "34c606b8",
   "metadata": {},
   "outputs": [
    {
     "data": {
      "text/plain": [
       "name             object\n",
       "batting_name     object\n",
       "fielding_name    object\n",
       "img_url          object\n",
       "dob              object\n",
       "batting_style    object\n",
       "bowling_style    object\n",
       "dtype: object"
      ]
     },
     "execution_count": 21,
     "metadata": {},
     "output_type": "execute_result"
    }
   ],
   "source": [
    "players.dtypes"
   ]
  },
  {
   "cell_type": "code",
   "execution_count": 22,
   "id": "ec61bb91",
   "metadata": {},
   "outputs": [],
   "source": [
    "cols = ['name', 'batting_name', 'fielding_name', 'img_url', 'batting_style', 'bowling_style']\n",
    "players[cols] = players[cols].astype(str)"
   ]
  },
  {
   "cell_type": "code",
   "execution_count": 23,
   "id": "465afa5b",
   "metadata": {},
   "outputs": [
    {
     "data": {
      "text/plain": [
       "name             object\n",
       "batting_name     object\n",
       "fielding_name    object\n",
       "img_url          object\n",
       "dob              object\n",
       "batting_style    object\n",
       "bowling_style    object\n",
       "dtype: object"
      ]
     },
     "execution_count": 23,
     "metadata": {},
     "output_type": "execute_result"
    }
   ],
   "source": [
    "players.dtypes"
   ]
  },
  {
   "cell_type": "code",
   "execution_count": 24,
   "id": "f92cc399",
   "metadata": {},
   "outputs": [
    {
     "data": {
      "text/plain": [
       "datetime.date"
      ]
     },
     "execution_count": 24,
     "metadata": {},
     "output_type": "execute_result"
    }
   ],
   "source": [
    "type(players.loc[0, 'dob'])  # should be datetime.date"
   ]
  },
  {
   "cell_type": "code",
   "execution_count": 25,
   "id": "40098483",
   "metadata": {},
   "outputs": [],
   "source": [
    "players.to_csv('cleaned_players.csv', index=False)"
   ]
  },
  {
   "cell_type": "markdown",
   "id": "e32d41b6",
   "metadata": {},
   "source": [
    "1. Drop match_number\n",
    "2. map team1 and team2\n",
    "3. macth_date -> convert to correct format\n",
    "4. toss_winne r-> map to team id\n",
    "5. result -> we have winner team name in winner column -> result can be used for match_outcome_enum\n",
    "6. map player of the match\n",
    "7. drop team1_players and team2 players"
   ]
  },
  {
   "cell_type": "code",
   "execution_count": 52,
   "id": "3b2dc3bd",
   "metadata": {},
   "outputs": [
    {
     "ename": "KeyError",
     "evalue": "'team_id'",
     "output_type": "error",
     "traceback": [
      "\u001b[31m---------------------------------------------------------------------------\u001b[39m",
      "\u001b[31mKeyError\u001b[39m                                  Traceback (most recent call last)",
      "\u001b[36mFile \u001b[39m\u001b[32mc:\\Users\\hp\\Desktop\\IPL\\notebooks\\venv\\Lib\\site-packages\\pandas\\core\\indexes\\base.py:3812\u001b[39m, in \u001b[36mIndex.get_loc\u001b[39m\u001b[34m(self, key)\u001b[39m\n\u001b[32m   3811\u001b[39m \u001b[38;5;28;01mtry\u001b[39;00m:\n\u001b[32m-> \u001b[39m\u001b[32m3812\u001b[39m     \u001b[38;5;28;01mreturn\u001b[39;00m \u001b[38;5;28;43mself\u001b[39;49m\u001b[43m.\u001b[49m\u001b[43m_engine\u001b[49m\u001b[43m.\u001b[49m\u001b[43mget_loc\u001b[49m\u001b[43m(\u001b[49m\u001b[43mcasted_key\u001b[49m\u001b[43m)\u001b[49m\n\u001b[32m   3813\u001b[39m \u001b[38;5;28;01mexcept\u001b[39;00m \u001b[38;5;167;01mKeyError\u001b[39;00m \u001b[38;5;28;01mas\u001b[39;00m err:\n",
      "\u001b[36mFile \u001b[39m\u001b[32mpandas/_libs/index.pyx:167\u001b[39m, in \u001b[36mpandas._libs.index.IndexEngine.get_loc\u001b[39m\u001b[34m()\u001b[39m\n",
      "\u001b[36mFile \u001b[39m\u001b[32mpandas/_libs/index.pyx:196\u001b[39m, in \u001b[36mpandas._libs.index.IndexEngine.get_loc\u001b[39m\u001b[34m()\u001b[39m\n",
      "\u001b[36mFile \u001b[39m\u001b[32mpandas/_libs/hashtable_class_helper.pxi:7088\u001b[39m, in \u001b[36mpandas._libs.hashtable.PyObjectHashTable.get_item\u001b[39m\u001b[34m()\u001b[39m\n",
      "\u001b[36mFile \u001b[39m\u001b[32mpandas/_libs/hashtable_class_helper.pxi:7096\u001b[39m, in \u001b[36mpandas._libs.hashtable.PyObjectHashTable.get_item\u001b[39m\u001b[34m()\u001b[39m\n",
      "\u001b[31mKeyError\u001b[39m: 'team_id'",
      "\nThe above exception was the direct cause of the following exception:\n",
      "\u001b[31mKeyError\u001b[39m                                  Traceback (most recent call last)",
      "\u001b[36mCell\u001b[39m\u001b[36m \u001b[39m\u001b[32mIn[52]\u001b[39m\u001b[32m, line 1\u001b[39m\n\u001b[32m----> \u001b[39m\u001b[32m1\u001b[39m team_map = \u001b[38;5;28mdict\u001b[39m(\u001b[38;5;28mzip\u001b[39m(team[\u001b[33m'\u001b[39m\u001b[33mname\u001b[39m\u001b[33m'\u001b[39m], \u001b[43mteam\u001b[49m\u001b[43m[\u001b[49m\u001b[33;43m'\u001b[39;49m\u001b[33;43mteam_id\u001b[39;49m\u001b[33;43m'\u001b[39;49m\u001b[43m]\u001b[49m))\n\u001b[32m      3\u001b[39m matches[\u001b[33m'\u001b[39m\u001b[33mteam1_id\u001b[39m\u001b[33m'\u001b[39m] = matches[\u001b[33m'\u001b[39m\u001b[33mteam1\u001b[39m\u001b[33m'\u001b[39m].map(team_map)\n\u001b[32m      4\u001b[39m matches[\u001b[33m'\u001b[39m\u001b[33mteam2_id\u001b[39m\u001b[33m'\u001b[39m] = matches[\u001b[33m'\u001b[39m\u001b[33mteam2\u001b[39m\u001b[33m'\u001b[39m].map(team_map)\n",
      "\u001b[36mFile \u001b[39m\u001b[32mc:\\Users\\hp\\Desktop\\IPL\\notebooks\\venv\\Lib\\site-packages\\pandas\\core\\frame.py:4107\u001b[39m, in \u001b[36mDataFrame.__getitem__\u001b[39m\u001b[34m(self, key)\u001b[39m\n\u001b[32m   4105\u001b[39m \u001b[38;5;28;01mif\u001b[39;00m \u001b[38;5;28mself\u001b[39m.columns.nlevels > \u001b[32m1\u001b[39m:\n\u001b[32m   4106\u001b[39m     \u001b[38;5;28;01mreturn\u001b[39;00m \u001b[38;5;28mself\u001b[39m._getitem_multilevel(key)\n\u001b[32m-> \u001b[39m\u001b[32m4107\u001b[39m indexer = \u001b[38;5;28;43mself\u001b[39;49m\u001b[43m.\u001b[49m\u001b[43mcolumns\u001b[49m\u001b[43m.\u001b[49m\u001b[43mget_loc\u001b[49m\u001b[43m(\u001b[49m\u001b[43mkey\u001b[49m\u001b[43m)\u001b[49m\n\u001b[32m   4108\u001b[39m \u001b[38;5;28;01mif\u001b[39;00m is_integer(indexer):\n\u001b[32m   4109\u001b[39m     indexer = [indexer]\n",
      "\u001b[36mFile \u001b[39m\u001b[32mc:\\Users\\hp\\Desktop\\IPL\\notebooks\\venv\\Lib\\site-packages\\pandas\\core\\indexes\\base.py:3819\u001b[39m, in \u001b[36mIndex.get_loc\u001b[39m\u001b[34m(self, key)\u001b[39m\n\u001b[32m   3814\u001b[39m     \u001b[38;5;28;01mif\u001b[39;00m \u001b[38;5;28misinstance\u001b[39m(casted_key, \u001b[38;5;28mslice\u001b[39m) \u001b[38;5;129;01mor\u001b[39;00m (\n\u001b[32m   3815\u001b[39m         \u001b[38;5;28misinstance\u001b[39m(casted_key, abc.Iterable)\n\u001b[32m   3816\u001b[39m         \u001b[38;5;129;01mand\u001b[39;00m \u001b[38;5;28many\u001b[39m(\u001b[38;5;28misinstance\u001b[39m(x, \u001b[38;5;28mslice\u001b[39m) \u001b[38;5;28;01mfor\u001b[39;00m x \u001b[38;5;129;01min\u001b[39;00m casted_key)\n\u001b[32m   3817\u001b[39m     ):\n\u001b[32m   3818\u001b[39m         \u001b[38;5;28;01mraise\u001b[39;00m InvalidIndexError(key)\n\u001b[32m-> \u001b[39m\u001b[32m3819\u001b[39m     \u001b[38;5;28;01mraise\u001b[39;00m \u001b[38;5;167;01mKeyError\u001b[39;00m(key) \u001b[38;5;28;01mfrom\u001b[39;00m\u001b[38;5;250m \u001b[39m\u001b[34;01merr\u001b[39;00m\n\u001b[32m   3820\u001b[39m \u001b[38;5;28;01mexcept\u001b[39;00m \u001b[38;5;167;01mTypeError\u001b[39;00m:\n\u001b[32m   3821\u001b[39m     \u001b[38;5;66;03m# If we have a listlike key, _check_indexing_error will raise\u001b[39;00m\n\u001b[32m   3822\u001b[39m     \u001b[38;5;66;03m#  InvalidIndexError. Otherwise we fall through and re-raise\u001b[39;00m\n\u001b[32m   3823\u001b[39m     \u001b[38;5;66;03m#  the TypeError.\u001b[39;00m\n\u001b[32m   3824\u001b[39m     \u001b[38;5;28mself\u001b[39m._check_indexing_error(key)\n",
      "\u001b[31mKeyError\u001b[39m: 'team_id'"
     ]
    }
   ],
   "source": [
    "team_map = dict(zip(team['name'], team['team_id']))\n",
    "\n",
    "matches['team1_id'] = matches['team1'].map(team_map)\n",
    "matches['team2_id'] = matches['team2'].map(team_map)\n",
    "matches['toss_winner_id'] = matches['toss_winner'].map(team_map)\n",
    "matches['winner_id'] = matches['winner'].map(team_map)"
   ]
  },
  {
   "cell_type": "code",
   "execution_count": null,
   "id": "2a06af47",
   "metadata": {},
   "outputs": [],
   "source": [
    "for col in ['team1_id', 'team2_id', 'toss_winner_id', 'winner_id']:\n",
    "    print(f\"{col} - missing:\", matches[matches[col].isna()][['team1', 'team2', 'toss_winner', 'winner']].drop_duplicates())\n",
    "    "
   ]
  },
  {
   "cell_type": "code",
   "execution_count": 53,
   "id": "160009ef",
   "metadata": {},
   "outputs": [
    {
     "data": {
      "text/plain": [
       "Index(['name', 'logo_url'], dtype='object')"
      ]
     },
     "execution_count": 53,
     "metadata": {},
     "output_type": "execute_result"
    }
   ],
   "source": [
    "team.columns"
   ]
  },
  {
   "cell_type": "code",
   "execution_count": null,
   "id": "3f06ffc6",
   "metadata": {},
   "outputs": [],
   "source": []
  }
 ],
 "metadata": {
  "kernelspec": {
   "display_name": "venv",
   "language": "python",
   "name": "python3"
  },
  "language_info": {
   "codemirror_mode": {
    "name": "ipython",
    "version": 3
   },
   "file_extension": ".py",
   "mimetype": "text/x-python",
   "name": "python",
   "nbconvert_exporter": "python",
   "pygments_lexer": "ipython3",
   "version": "3.13.1"
  }
 },
 "nbformat": 4,
 "nbformat_minor": 5
}
