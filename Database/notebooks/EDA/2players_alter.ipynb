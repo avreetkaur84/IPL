{
 "cells": [
  {
   "cell_type": "code",
   "execution_count": 24,
   "id": "af6566a5",
   "metadata": {},
   "outputs": [],
   "source": [
    "import pandas as pd"
   ]
  },
  {
   "cell_type": "markdown",
   "id": "bde2eeb8",
   "metadata": {},
   "source": [
    "1. Drop match_number\n",
    "2. map team1 and team2\n",
    "3. macth_date -> convert to correct format\n",
    "4. toss_winne r-> map to team id\n",
    "5. result -> we have winner team name in winner column -> result can be used for match_outcome_enum\n",
    "6. map player of the match\n",
    "7. drop team1_players and team2 players"
   ]
  },
  {
   "cell_type": "code",
   "execution_count": null,
   "id": "ad99aa72",
   "metadata": {},
   "outputs": [],
   "source": [
    "import psycopg2\n",
    "\n",
    "conn = psycopg2.connect(\n",
    "    dbname=\"ipl_dashboard\",\n",
    "    user=\"ipl_user\",\n",
    "    password=\"ipl_user_12246\",  \n",
    "    host=\"localhost\",\n",
    "    port=\"5432\"\n",
    ")"
   ]
  },
  {
   "cell_type": "markdown",
   "id": "746fa9d1",
   "metadata": {},
   "source": [
    "we have to alter players table first"
   ]
  },
  {
   "cell_type": "code",
   "execution_count": 35,
   "id": "b9eb9e5a",
   "metadata": {},
   "outputs": [],
   "source": [
    "players_csv = pd.read_csv(\"../../data/2024_players_details.csv\");"
   ]
  },
  {
   "cell_type": "code",
   "execution_count": 36,
   "id": "abaa075b",
   "metadata": {},
   "outputs": [],
   "source": [
    "display_map = dict(zip(players_csv['longName'], players_csv['Name']))"
   ]
  },
  {
   "cell_type": "code",
   "execution_count": 37,
   "id": "76ddff74",
   "metadata": {},
   "outputs": [],
   "source": [
    "cursor = conn.cursor()"
   ]
  },
  {
   "cell_type": "code",
   "execution_count": null,
   "id": "d73e6f0b",
   "metadata": {},
   "outputs": [
    {
     "ename": "",
     "evalue": "",
     "output_type": "error",
     "traceback": [
      "\u001b[1;31mnotebook controller is DISPOSED. \n",
      "\u001b[1;31mView Jupyter <a href='command:jupyter.viewOutput'>log</a> for further details."
     ]
    }
   ],
   "source": [
    "cursor.execute(\"SELECT player_id, name FROM Players;\")\n",
    "rows = cursor.fetchall()"
   ]
  },
  {
   "cell_type": "code",
   "execution_count": null,
   "id": "6546a69f",
   "metadata": {},
   "outputs": [
    {
     "name": "stdout",
     "output_type": "stream",
     "text": [
      "✅ Display names updated successfully.\n"
     ]
    },
    {
     "ename": "",
     "evalue": "",
     "output_type": "error",
     "traceback": [
      "\u001b[1;31mnotebook controller is DISPOSED. \n",
      "\u001b[1;31mView Jupyter <a href='command:jupyter.viewOutput'>log</a> for further details."
     ]
    }
   ],
   "source": [
    "for player_id, name in rows:\n",
    "    display_name = display_map.get(name)\n",
    "    if display_name:\n",
    "        cursor.execute(\n",
    "            \"UPDATE Players SET display_name = %s WHERE player_id = %s;\",\n",
    "            (display_name, player_id)\n",
    "        )\n",
    "\n",
    "# Commit the changes\n",
    "conn.commit()\n",
    "\n",
    "# Cleanup\n",
    "cursor.close()\n",
    "print(\"✅ Display names updated successfully.\")"
   ]
  },
  {
   "cell_type": "code",
   "execution_count": 38,
   "id": "149425e2",
   "metadata": {},
   "outputs": [
    {
     "name": "stderr",
     "output_type": "stream",
     "text": [
      "C:\\Users\\hp\\AppData\\Local\\Temp\\ipykernel_9312\\1490743441.py:1: UserWarning: pandas only supports SQLAlchemy connectable (engine/connection) or database string URI or sqlite3 DBAPI2 connection. Other DBAPI2 objects are not tested. Please consider using SQLAlchemy.\n",
      "  players_db = pd.read_sql(\"SELECT * FROM Players;\", conn)\n"
     ]
    }
   ],
   "source": [
    "players_db = pd.read_sql(\"SELECT * FROM Players;\", conn)"
   ]
  },
  {
   "cell_type": "code",
   "execution_count": 39,
   "id": "f5c40c18",
   "metadata": {},
   "outputs": [
    {
     "data": {
      "text/html": [
       "<div>\n",
       "<style scoped>\n",
       "    .dataframe tbody tr th:only-of-type {\n",
       "        vertical-align: middle;\n",
       "    }\n",
       "\n",
       "    .dataframe tbody tr th {\n",
       "        vertical-align: top;\n",
       "    }\n",
       "\n",
       "    .dataframe thead th {\n",
       "        text-align: right;\n",
       "    }\n",
       "</style>\n",
       "<table border=\"1\" class=\"dataframe\">\n",
       "  <thead>\n",
       "    <tr style=\"text-align: right;\">\n",
       "      <th></th>\n",
       "      <th>player_id</th>\n",
       "      <th>name</th>\n",
       "      <th>fielding_name</th>\n",
       "      <th>batting_name</th>\n",
       "      <th>dob</th>\n",
       "      <th>img_url</th>\n",
       "      <th>batting_style</th>\n",
       "      <th>bowling_style</th>\n",
       "      <th>display_name</th>\n",
       "    </tr>\n",
       "  </thead>\n",
       "  <tbody>\n",
       "    <tr>\n",
       "      <th>0</th>\n",
       "      <td>1</td>\n",
       "      <td>Ruturaj Gaikwad</td>\n",
       "      <td>Gaikwad</td>\n",
       "      <td>RD Gaikwad</td>\n",
       "      <td>1997-01-31</td>\n",
       "      <td>https://img1.hscicdn.com/image/upload/f_auto,t...</td>\n",
       "      <td>right-hand bat</td>\n",
       "      <td>right-arm offbreak</td>\n",
       "      <td>RD Gaikwad</td>\n",
       "    </tr>\n",
       "    <tr>\n",
       "      <th>1</th>\n",
       "      <td>2</td>\n",
       "      <td>Moeen Ali</td>\n",
       "      <td>Ali</td>\n",
       "      <td>MM Ali</td>\n",
       "      <td>1987-06-18</td>\n",
       "      <td>https://img1.hscicdn.com/image/upload/f_auto,t...</td>\n",
       "      <td>left-hand bat</td>\n",
       "      <td>right-arm offbreak</td>\n",
       "      <td>MM Ali</td>\n",
       "    </tr>\n",
       "    <tr>\n",
       "      <th>2</th>\n",
       "      <td>3</td>\n",
       "      <td>Aravelly Avanish</td>\n",
       "      <td>Aravelly Avanish</td>\n",
       "      <td>Aravelly Avanish</td>\n",
       "      <td>2005-06-02</td>\n",
       "      <td>https://img1.hscicdn.com/image/upload/f_auto,t...</td>\n",
       "      <td>left-hand bat</td>\n",
       "      <td>Na</td>\n",
       "      <td>Aravelly Avanish</td>\n",
       "    </tr>\n",
       "    <tr>\n",
       "      <th>3</th>\n",
       "      <td>4</td>\n",
       "      <td>Deepak Chahar</td>\n",
       "      <td>Chahar</td>\n",
       "      <td>DL Chahar</td>\n",
       "      <td>1992-08-07</td>\n",
       "      <td>https://img1.hscicdn.com/image/upload/f_auto,t...</td>\n",
       "      <td>right-hand bat</td>\n",
       "      <td>right-arm medium</td>\n",
       "      <td>DL Chahar</td>\n",
       "    </tr>\n",
       "    <tr>\n",
       "      <th>4</th>\n",
       "      <td>5</td>\n",
       "      <td>Tushar Deshpande</td>\n",
       "      <td>Deshpande</td>\n",
       "      <td>TU Deshpande</td>\n",
       "      <td>1995-05-15</td>\n",
       "      <td>https://img1.hscicdn.com/image/upload/f_auto,t...</td>\n",
       "      <td>left-hand bat</td>\n",
       "      <td>right-arm medium</td>\n",
       "      <td>TU Deshpande</td>\n",
       "    </tr>\n",
       "  </tbody>\n",
       "</table>\n",
       "</div>"
      ],
      "text/plain": [
       "   player_id              name     fielding_name      batting_name  \\\n",
       "0          1   Ruturaj Gaikwad           Gaikwad        RD Gaikwad   \n",
       "1          2         Moeen Ali               Ali            MM Ali   \n",
       "2          3  Aravelly Avanish  Aravelly Avanish  Aravelly Avanish   \n",
       "3          4     Deepak Chahar            Chahar         DL Chahar   \n",
       "4          5  Tushar Deshpande         Deshpande      TU Deshpande   \n",
       "\n",
       "          dob                                            img_url  \\\n",
       "0  1997-01-31  https://img1.hscicdn.com/image/upload/f_auto,t...   \n",
       "1  1987-06-18  https://img1.hscicdn.com/image/upload/f_auto,t...   \n",
       "2  2005-06-02  https://img1.hscicdn.com/image/upload/f_auto,t...   \n",
       "3  1992-08-07  https://img1.hscicdn.com/image/upload/f_auto,t...   \n",
       "4  1995-05-15  https://img1.hscicdn.com/image/upload/f_auto,t...   \n",
       "\n",
       "    batting_style       bowling_style      display_name  \n",
       "0  right-hand bat  right-arm offbreak        RD Gaikwad  \n",
       "1   left-hand bat  right-arm offbreak            MM Ali  \n",
       "2   left-hand bat                  Na  Aravelly Avanish  \n",
       "3  right-hand bat    right-arm medium         DL Chahar  \n",
       "4   left-hand bat    right-arm medium      TU Deshpande  "
      ]
     },
     "execution_count": 39,
     "metadata": {},
     "output_type": "execute_result"
    }
   ],
   "source": [
    "players_db.head()"
   ]
  }
 ],
 "metadata": {
  "kernelspec": {
   "display_name": "venv",
   "language": "python",
   "name": "python3"
  },
  "language_info": {
   "codemirror_mode": {
    "name": "ipython",
    "version": 3
   },
   "file_extension": ".py",
   "mimetype": "text/x-python",
   "name": "python",
   "nbconvert_exporter": "python",
   "pygments_lexer": "ipython3",
   "version": "3.13.1"
  }
 },
 "nbformat": 4,
 "nbformat_minor": 5
}
