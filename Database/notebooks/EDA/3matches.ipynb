{
 "cells": [
  {
   "cell_type": "code",
   "execution_count": 1,
   "id": "90eed4b3",
   "metadata": {},
   "outputs": [],
   "source": [
    "import pandas as pd"
   ]
  },
  {
   "cell_type": "code",
   "execution_count": 5,
   "id": "1ff75a0b",
   "metadata": {},
   "outputs": [],
   "source": [
    "matches = pd.read_csv(\"../../data/Match_Info.csv\");"
   ]
  },
  {
   "cell_type": "code",
   "execution_count": 6,
   "id": "c74fd8db",
   "metadata": {},
   "outputs": [
    {
     "data": {
      "text/plain": [
       "Index(['match_number', 'team1', 'team2', 'match_date', 'toss_winner',\n",
       "       'toss_decision', 'result', 'eliminator', 'winner', 'player_of_match',\n",
       "       'venue', 'city', 'team1_players', 'team2_players'],\n",
       "      dtype='object')"
      ]
     },
     "execution_count": 6,
     "metadata": {},
     "output_type": "execute_result"
    }
   ],
   "source": [
    "matches.columns"
   ]
  },
  {
   "cell_type": "code",
   "execution_count": 7,
   "id": "5d8aa338",
   "metadata": {},
   "outputs": [],
   "source": [
    "matches.drop(columns=['match_number', 'eliminator', 'team1_players', 'team2_players'], inplace=True)"
   ]
  },
  {
   "cell_type": "code",
   "execution_count": 8,
   "id": "df7f2b88",
   "metadata": {},
   "outputs": [],
   "source": [
    "matches['match_date'] = pd.to_datetime(matches['match_date']).dt.date"
   ]
  },
  {
   "cell_type": "markdown",
   "id": "212b7ac8",
   "metadata": {},
   "source": [
    "We have to amke connection with the teams table in the database, to get team_id"
   ]
  },
  {
   "cell_type": "code",
   "execution_count": 9,
   "id": "aeb132ee",
   "metadata": {},
   "outputs": [],
   "source": [
    "import psycopg2"
   ]
  },
  {
   "cell_type": "code",
   "execution_count": 10,
   "id": "5bea6deb",
   "metadata": {},
   "outputs": [],
   "source": [
    "conn = psycopg2.connect(\n",
    "    dbname=\"ipl_dashboard\",\n",
    "    user=\"ipl_user\",\n",
    "    password=\"ipl_user_12246\",  \n",
    "    host=\"localhost\",\n",
    "    port=\"5432\"\n",
    ")"
   ]
  },
  {
   "cell_type": "code",
   "execution_count": 11,
   "id": "4fce07b4",
   "metadata": {},
   "outputs": [
    {
     "name": "stderr",
     "output_type": "stream",
     "text": [
      "C:\\Users\\hp\\AppData\\Local\\Temp\\ipykernel_9860\\1042233605.py:1: UserWarning: pandas only supports SQLAlchemy connectable (engine/connection) or database string URI or sqlite3 DBAPI2 connection. Other DBAPI2 objects are not tested. Please consider using SQLAlchemy.\n",
      "  teams = pd.read_sql(\"SELECT team_id, name FROM Teams;\", conn);\n"
     ]
    }
   ],
   "source": [
    "teams = pd.read_sql(\"SELECT team_id, name FROM Teams;\", conn);"
   ]
  },
  {
   "cell_type": "code",
   "execution_count": 12,
   "id": "784bdbde",
   "metadata": {},
   "outputs": [
    {
     "name": "stdout",
     "output_type": "stream",
     "text": [
      "   team_id                        name\n",
      "0        1              Mumbai Indians\n",
      "1        2         Chennai Super Kings\n",
      "2        3              Delhi Capitals\n",
      "3        4  Kolkata Knight Respn_iders\n",
      "4        5                Punjab Kings\n"
     ]
    }
   ],
   "source": [
    "print(teams.head())"
   ]
  },
  {
   "cell_type": "code",
   "execution_count": 13,
   "id": "8bb9abc4",
   "metadata": {},
   "outputs": [],
   "source": [
    "team_map = dict(zip(teams['name'], teams['team_id']))"
   ]
  },
  {
   "cell_type": "code",
   "execution_count": null,
   "id": "8a6eae27",
   "metadata": {},
   "outputs": [],
   "source": [
    "matches['team1_id'] = matches['team1'].map(team_map)\n",
    "matches['team2_id'] = matches['team2'].map(team_map)\n",
    "matches['toss_winner_id'] = matches['toss_winner'].map(team_map)\n",
    "matches['winner_id'] = matches['winner'].map(team_map)"
   ]
  },
  {
   "cell_type": "code",
   "execution_count": 15,
   "id": "d8481dd3",
   "metadata": {},
   "outputs": [],
   "source": [
    "matches['outcome'] = matches['result'].str.lower()\n",
    "matches['outcome'] = matches['outcome'].replace({'no result': 'no result', 'tie': 'tie', 'win': 'win'})"
   ]
  },
  {
   "cell_type": "code",
   "execution_count": 16,
   "id": "17025c3a",
   "metadata": {},
   "outputs": [
    {
     "name": "stderr",
     "output_type": "stream",
     "text": [
      "C:\\Users\\hp\\AppData\\Local\\Temp\\ipykernel_9860\\1347944146.py:1: UserWarning: pandas only supports SQLAlchemy connectable (engine/connection) or database string URI or sqlite3 DBAPI2 connection. Other DBAPI2 objects are not tested. Please consider using SQLAlchemy.\n",
      "  players = pd.read_sql(\"SELECT * FROM Players;\", conn)\n"
     ]
    }
   ],
   "source": [
    "players = pd.read_sql(\"SELECT * FROM Players;\", conn)"
   ]
  },
  {
   "cell_type": "code",
   "execution_count": 17,
   "id": "51d4d3a3",
   "metadata": {},
   "outputs": [
    {
     "name": "stdout",
     "output_type": "stream",
     "text": [
      "   player_id              name     fielding_name      batting_name  \\\n",
      "0          1   Ruturaj Gaikwad           Gaikwad        RD Gaikwad   \n",
      "1          2         Moeen Ali               Ali            MM Ali   \n",
      "2          3  Aravelly Avanish  Aravelly Avanish  Aravelly Avanish   \n",
      "3          4     Deepak Chahar            Chahar         DL Chahar   \n",
      "4          5  Tushar Deshpande         Deshpande      TU Deshpande   \n",
      "\n",
      "          dob                                            img_url  \\\n",
      "0  1997-01-31  https://img1.hscicdn.com/image/upload/f_auto,t...   \n",
      "1  1987-06-18  https://img1.hscicdn.com/image/upload/f_auto,t...   \n",
      "2  2005-06-02  https://img1.hscicdn.com/image/upload/f_auto,t...   \n",
      "3  1992-08-07  https://img1.hscicdn.com/image/upload/f_auto,t...   \n",
      "4  1995-05-15  https://img1.hscicdn.com/image/upload/f_auto,t...   \n",
      "\n",
      "    batting_style       bowling_style      display_name  \n",
      "0  right-hand bat  right-arm offbreak        RD Gaikwad  \n",
      "1   left-hand bat  right-arm offbreak            MM Ali  \n",
      "2   left-hand bat                  Na  Aravelly Avanish  \n",
      "3  right-hand bat    right-arm medium         DL Chahar  \n",
      "4   left-hand bat    right-arm medium      TU Deshpande  \n"
     ]
    }
   ],
   "source": [
    "print(players.head())"
   ]
  },
  {
   "cell_type": "code",
   "execution_count": 18,
   "id": "f1fbe39f",
   "metadata": {},
   "outputs": [],
   "source": [
    "player_map = dict(zip(players['display_name'], players['player_id']))  # players must be loaded from DB\n",
    "matches['player_of_match'] = matches['player_of_match'].map(player_map)"
   ]
  },
  {
   "cell_type": "code",
   "execution_count": 19,
   "id": "5667bdec",
   "metadata": {},
   "outputs": [],
   "source": [
    "matches['win_margin'] = None\n",
    "matches['win_type'] = None"
   ]
  },
  {
   "cell_type": "code",
   "execution_count": 20,
   "id": "3d200296",
   "metadata": {},
   "outputs": [],
   "source": [
    "matches.rename(columns={\n",
    "    'match_date': 'date',\n",
    "    'venue': 'venue',\n",
    "    'city': 'city'\n",
    "}, inplace=True)"
   ]
  },
  {
   "cell_type": "code",
   "execution_count": null,
   "id": "6a405aef",
   "metadata": {},
   "outputs": [],
   "source": [
    "final_columns = [\n",
    "    'date', 'venue', 'city',\n",
    "    'team1_id', 'team2_id', 'toss_winner_id',\n",
    "    'toss_decision', 'outcome', 'winner_id',\n",
    "    'win_margin', 'win_type', 'player_of_match'\n",
    "]"
   ]
  },
  {
   "cell_type": "code",
   "execution_count": 24,
   "id": "e10a01da",
   "metadata": {},
   "outputs": [],
   "source": [
    "id_cols = ['team1_id', 'team2_id', 'toss_winner_id', 'winner_id', 'player_of_match']\n",
    "for col in id_cols:\n",
    "    matches[col] = matches[col].astype('Int64')"
   ]
  },
  {
   "cell_type": "code",
   "execution_count": 27,
   "id": "8a6ed20e",
   "metadata": {},
   "outputs": [],
   "source": [
    "matches['city'] = matches['city'].fillna('Unknown')"
   ]
  },
  {
   "cell_type": "code",
   "execution_count": 28,
   "id": "bec87cdc",
   "metadata": {},
   "outputs": [],
   "source": [
    "matches_final = matches[final_columns]"
   ]
  },
  {
   "cell_type": "code",
   "execution_count": 29,
   "id": "872db0ed",
   "metadata": {},
   "outputs": [],
   "source": [
    "matches_final.to_csv(\"cleaned_matches.csv\", index=False)"
   ]
  },
  {
   "cell_type": "code",
   "execution_count": null,
   "id": "77595aa4",
   "metadata": {},
   "outputs": [],
   "source": []
  }
 ],
 "metadata": {
  "kernelspec": {
   "display_name": "venv",
   "language": "python",
   "name": "python3"
  },
  "language_info": {
   "codemirror_mode": {
    "name": "ipython",
    "version": 3
   },
   "file_extension": ".py",
   "mimetype": "text/x-python",
   "name": "python",
   "nbconvert_exporter": "python",
   "pygments_lexer": "ipython3",
   "version": "3.13.1"
  }
 },
 "nbformat": 4,
 "nbformat_minor": 5
}
