{
 "cells": [
  {
   "cell_type": "code",
   "execution_count": 1,
   "id": "95dc05e2",
   "metadata": {},
   "outputs": [],
   "source": [
    "import psycopg2\n",
    "import os"
   ]
  },
  {
   "cell_type": "code",
   "execution_count": 2,
   "id": "cf86b0bf",
   "metadata": {},
   "outputs": [],
   "source": [
    "conn = psycopg2.connect(\n",
    "    dbname=\"ipl_dashboard\",\n",
    "    user=\"ipl_user\",\n",
    "    password=\"ipl_user_12246\",\n",
    "    host=\"localhost\",\n",
    "    port=\"5432\"\n",
    ")\n",
    "cur = conn.cursor()"
   ]
  },
  {
   "cell_type": "code",
   "execution_count": 3,
   "id": "f1966678",
   "metadata": {},
   "outputs": [],
   "source": [
    "sql_test_dir = \"../../sql_testing\"  # Update path if needed\n",
    "sql_files = sorted([f for f in os.listdir(sql_test_dir) if f.endswith(\".sql\")])"
   ]
  },
  {
   "cell_type": "code",
   "execution_count": 4,
   "id": "4ee5dbc5",
   "metadata": {},
   "outputs": [
    {
     "name": "stdout",
     "output_type": "stream",
     "text": [
      "['1_schema_checks.sql', '2_refrential_integrity_checks.sql', '3_nulls_and_missing.sql', '4_business_logic_tests.sql', '5_duplicates_and_uniqueness.sql', '6_summary_insights.sql']\n"
     ]
    }
   ],
   "source": [
    "print(sql_files)"
   ]
  },
  {
   "cell_type": "code",
   "execution_count": 6,
   "id": "4ee66ce8",
   "metadata": {},
   "outputs": [
    {
     "name": "stdout",
     "output_type": "stream",
     "text": [
      "\n",
      "🔎 Running: 1_schema_checks.sql\n",
      "⚠️ Error executing 1_schema_checks.sql: current transaction is aborted, commands ignored until end of transaction block\n",
      "\n",
      "\n",
      "🔎 Running: 2_refrential_integrity_checks.sql\n",
      "⚠️ Error executing 2_refrential_integrity_checks.sql: current transaction is aborted, commands ignored until end of transaction block\n",
      "\n",
      "\n",
      "🔎 Running: 3_nulls_and_missing.sql\n",
      "⚠️ Error executing 3_nulls_and_missing.sql: current transaction is aborted, commands ignored until end of transaction block\n",
      "\n",
      "\n",
      "🔎 Running: 4_business_logic_tests.sql\n",
      "⚠️ Error executing 4_business_logic_tests.sql: current transaction is aborted, commands ignored until end of transaction block\n",
      "\n",
      "\n",
      "🔎 Running: 5_duplicates_and_uniqueness.sql\n",
      "⚠️ Error executing 5_duplicates_and_uniqueness.sql: current transaction is aborted, commands ignored until end of transaction block\n",
      "\n",
      "\n",
      "🔎 Running: 6_summary_insights.sql\n",
      "⚠️ Error executing 6_summary_insights.sql: current transaction is aborted, commands ignored until end of transaction block\n",
      "\n"
     ]
    }
   ],
   "source": [
    "for file in sql_files:\n",
    "    print(f\"\\n🔎 Running: {file}\")\n",
    "    with open(os.path.join(sql_test_dir, file), 'r') as f:\n",
    "        query = f.read()\n",
    "        try:\n",
    "            cur.execute(query)\n",
    "            try:\n",
    "                result = cur.fetchall()\n",
    "                if result:\n",
    "                    print(\"❌ Issue Found:\")\n",
    "                    for row in result[:10]:  # limit to 10 rows\n",
    "                        print(row)\n",
    "                else:\n",
    "                    print(\"✅ Passed (No issues found)\")\n",
    "            except psycopg2.ProgrammingError:\n",
    "                print(\"✅ Executed (no result to fetch)\")\n",
    "        except Exception as e:\n",
    "            print(f\"⚠️ Error executing {file}: {e}\")\n"
   ]
  },
  {
   "cell_type": "code",
   "execution_count": 7,
   "id": "bb7fa447",
   "metadata": {},
   "outputs": [
    {
     "name": "stdout",
     "output_type": "stream",
     "text": [
      "🔎 Running: 1_schema_checks.sql\n",
      "❌ Error: current transaction is aborted, commands ignored until end of transaction block\n",
      "\n"
     ]
    }
   ],
   "source": [
    "with open(\"C:/Users/hp/Desktop/IPL/sql_testing/1_schema_checks.sql\", \"r\") as f:\n",
    "    try:\n",
    "        print(\"🔎 Running: 1_schema_checks.sql\")\n",
    "        cur.execute(f.read())\n",
    "        print(\"✅ Executed successfully!\")\n",
    "    except Exception as e:\n",
    "        print(\"❌ Error:\", e)\n",
    "        conn.rollback()  # RESET transaction"
   ]
  },
  {
   "cell_type": "code",
   "execution_count": 8,
   "id": "7f18f418",
   "metadata": {},
   "outputs": [],
   "source": [
    "cur.close()\n",
    "conn.close()"
   ]
  },
  {
   "cell_type": "code",
   "execution_count": null,
   "id": "7f5a7b86",
   "metadata": {},
   "outputs": [],
   "source": []
  }
 ],
 "metadata": {
  "kernelspec": {
   "display_name": "venv",
   "language": "python",
   "name": "python3"
  },
  "language_info": {
   "codemirror_mode": {
    "name": "ipython",
    "version": 3
   },
   "file_extension": ".py",
   "mimetype": "text/x-python",
   "name": "python",
   "nbconvert_exporter": "python",
   "pygments_lexer": "ipython3",
   "version": "3.13.1"
  }
 },
 "nbformat": 4,
 "nbformat_minor": 5
}
