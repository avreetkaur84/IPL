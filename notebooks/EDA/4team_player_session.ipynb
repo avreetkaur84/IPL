{
 "cells": [
  {
   "cell_type": "markdown",
   "id": "b754c359",
   "metadata": {},
   "source": [
    "```\n",
    "CREATE TABLE Team_Player_Season (\n",
    "    team_player_season_id SERIAL PRIMARY KEY,\n",
    "    season_year INT NOT NULL,\n",
    "    player_id INT REFERENCES Players(player_id),\n",
    "    team_id INT REFERENCES Teams(team_id)\n",
    ");\n",
    "```\n",
    "This table is only for knowing which players were in which teams in which season\n",
    "1. season_year -> we have to extract it from the date of match.\n",
    "\n",
    "wait -> I think we can do the things in better way. Look at another pending table -\n",
    "```\n",
    "CREATE TABLE Match_Players (\n",
    "    match_player_id SERIAL PRIMARY KEY,\n",
    "    match_id INT REFERENCES Matches(match_id),\n",
    "    team_id INT REFERENCES Teams(team_id),\n",
    "    player_id INT REFERENCES Players(player_id),\n",
    "    is_playing BOOLEAN DEFAULT TRUE\n",
    ");\n",
    "```\n",
    "\n",
    "In this table we are writing everything that team_Season_player is saving except the season_year, so how about we just add that one attribute in this table and delete that table altogether, it will make things much better."
   ]
  },
  {
   "cell_type": "markdown",
   "id": "6db5f90e",
   "metadata": {},
   "source": [
    "So, We have followed my advice, now, next work -\n",
    "1. season_year will get from match date and match match id also from match table\n",
    "2. Now, the player id that was playing in that match also from match table and team id same from this table.\n",
    "But I am not sure, how we will filter and map this whole data.\n",
    "\n",
    "1. matches CSV includes: match_id, match_date, team1_players, team2_players, team1_id, team2_id\n",
    "2. players table includes: player_id, display_name"
   ]
  },
  {
   "cell_type": "code",
   "execution_count": 49,
   "id": "2b5deaad",
   "metadata": {},
   "outputs": [],
   "source": [
    "import pandas as pd\n",
    "import psycopg2"
   ]
  },
  {
   "cell_type": "code",
   "execution_count": 50,
   "id": "e10cc26d",
   "metadata": {},
   "outputs": [],
   "source": [
    "conn = psycopg2.connect(\n",
    "    dbname=\"ipl_dashboard\",\n",
    "    user=\"ipl_user\",\n",
    "    password=\"ipl_user_12246\",  \n",
    "    host=\"localhost\",\n",
    "    port=\"5432\"\n",
    ")"
   ]
  },
  {
   "cell_type": "code",
   "execution_count": 51,
   "id": "309c3f8e",
   "metadata": {},
   "outputs": [
    {
     "name": "stderr",
     "output_type": "stream",
     "text": [
      "C:\\Users\\hp\\AppData\\Local\\Temp\\ipykernel_4380\\1614711426.py:1: UserWarning: pandas only supports SQLAlchemy connectable (engine/connection) or database string URI or sqlite3 DBAPI2 connection. Other DBAPI2 objects are not tested. Please consider using SQLAlchemy.\n",
      "  matches_df = pd.read_sql(\"SELECT match_id, date, team1_id, team2_id FROM matches\", conn)\n",
      "C:\\Users\\hp\\AppData\\Local\\Temp\\ipykernel_4380\\1614711426.py:2: UserWarning: pandas only supports SQLAlchemy connectable (engine/connection) or database string URI or sqlite3 DBAPI2 connection. Other DBAPI2 objects are not tested. Please consider using SQLAlchemy.\n",
      "  players_df = pd.read_sql(\"SELECT player_id, display_name, name FROM players\", conn)\n"
     ]
    }
   ],
   "source": [
    "matches_df = pd.read_sql(\"SELECT match_id, date, team1_id, team2_id FROM matches\", conn)\n",
    "players_df = pd.read_sql(\"SELECT player_id, display_name, name FROM players\", conn)"
   ]
  },
  {
   "cell_type": "code",
   "execution_count": 52,
   "id": "22b9a18c",
   "metadata": {},
   "outputs": [
    {
     "name": "stdout",
     "output_type": "stream",
     "text": [
      "   match_id        date  team1_id  team2_id\n",
      "0        16  2008-04-22      18.0      14.0\n",
      "1        17  2010-03-18      17.0       6.0\n",
      "2        18  2024-05-10      16.0       2.0\n",
      "3        19  2008-04-18      17.0       NaN\n",
      "4        20  2016-05-29      17.0       8.0\n"
     ]
    }
   ],
   "source": [
    "print(matches_df.head())"
   ]
  },
  {
   "cell_type": "code",
   "execution_count": 53,
   "id": "1402d3ca",
   "metadata": {},
   "outputs": [],
   "source": [
    "match_raw = pd.read_csv(\"../../data/Match_Info.csv\")"
   ]
  },
  {
   "cell_type": "code",
   "execution_count": 54,
   "id": "fe57ab62",
   "metadata": {},
   "outputs": [
    {
     "data": {
      "text/plain": [
       "dtype('O')"
      ]
     },
     "execution_count": 54,
     "metadata": {},
     "output_type": "execute_result"
    }
   ],
   "source": [
    "match_raw['match_date'].dtype"
   ]
  },
  {
   "cell_type": "code",
   "execution_count": 55,
   "id": "f7310900",
   "metadata": {},
   "outputs": [
    {
     "data": {
      "text/plain": [
       "dtype('O')"
      ]
     },
     "execution_count": 55,
     "metadata": {},
     "output_type": "execute_result"
    }
   ],
   "source": [
    "matches_df['date'].dtype"
   ]
  },
  {
   "cell_type": "code",
   "execution_count": 56,
   "id": "7063e5c4",
   "metadata": {},
   "outputs": [],
   "source": [
    "matches_df['date'] = pd.to_datetime(matches_df['date']).dt.date\n",
    "match_raw['match_date'] = pd.to_datetime(match_raw['match_date']).dt.date"
   ]
  },
  {
   "cell_type": "code",
   "execution_count": 57,
   "id": "19076a03",
   "metadata": {},
   "outputs": [
    {
     "name": "stdout",
     "output_type": "stream",
     "text": [
      "0    2008-04-22\n",
      "1    2010-03-18\n",
      "2    2024-05-10\n",
      "Name: date, dtype: object\n",
      "0    2008-04-22\n",
      "1    2010-03-18\n",
      "2    2024-05-10\n",
      "Name: match_date, dtype: object\n"
     ]
    }
   ],
   "source": [
    "print(matches_df['date'].head(3))\n",
    "print(match_raw['match_date'].head(3))"
   ]
  },
  {
   "cell_type": "code",
   "execution_count": 58,
   "id": "8d83397f",
   "metadata": {},
   "outputs": [],
   "source": [
    "match_data = matches_df.merge(\n",
    "    match_raw[['match_date', 'team1_players', 'team2_players']],\n",
    "    left_on='date',\n",
    "    right_on='match_date',\n",
    "    how='left'\n",
    ")"
   ]
  },
  {
   "cell_type": "code",
   "execution_count": 59,
   "id": "b49cb892",
   "metadata": {},
   "outputs": [
    {
     "name": "stdout",
     "output_type": "stream",
     "text": [
      "joined\n",
      "True    1737\n",
      "Name: count, dtype: int64\n"
     ]
    }
   ],
   "source": [
    "match_data['joined'] = match_data['team1_players'].notnull()\n",
    "print(match_data['joined'].value_counts())"
   ]
  },
  {
   "cell_type": "code",
   "execution_count": 60,
   "id": "ad300090",
   "metadata": {},
   "outputs": [
    {
     "name": "stdout",
     "output_type": "stream",
     "text": [
      "   match_id        date  team1_id  team2_id  match_date  \\\n",
      "0        16  2008-04-22      18.0      14.0  2008-04-22   \n",
      "1        17  2010-03-18      17.0       6.0  2010-03-18   \n",
      "2        18  2024-05-10      16.0       2.0  2024-05-10   \n",
      "3        19  2008-04-18      17.0       NaN  2008-04-18   \n",
      "4        20  2016-05-29      17.0       8.0  2016-05-29   \n",
      "\n",
      "                                       team1_players  \\\n",
      "0  AC Gilchrist, Y Venugopal Rao, VVS Laxman, A S...   \n",
      "1  MK Pandey, JH Kallis, RV Uthappa, V Kohli, R D...   \n",
      "2  S Sandeep Warrier, B Sai Sudharsan, Shubman Gi...   \n",
      "3  R Dravid, W Jaffer, V Kohli, JH Kallis, CL Whi...   \n",
      "4  CH Gayle, V Kohli, AB de Villiers, KL Rahul, S...   \n",
      "\n",
      "                                       team2_players  joined  \n",
      "0  G Gambhir, V Sehwag, S Dhawan, Shoaib Malik, K...    True  \n",
      "1  NV Ojha, MJ Lumb, DR Martyn, AA Jhunjhunwala, ...    True  \n",
      "2  TU Deshpande, AM Rahane, R Ravindra, RD Gaikwa...    True  \n",
      "3  SC Ganguly, BB McCullum, RT Ponting, DJ Hussey...    True  \n",
      "4  DA Warner, S Dhawan, MC Henriques, Yuvraj Sing...    True  \n"
     ]
    }
   ],
   "source": [
    "print(match_data.head())"
   ]
  },
  {
   "cell_type": "code",
   "execution_count": 61,
   "id": "63644aec",
   "metadata": {},
   "outputs": [],
   "source": [
    "def explode_players(df, team_col, team_id_col):\n",
    "    exploded = df[[team_col, team_id_col, 'match_id', 'date']].copy()\n",
    "    exploded['player_name'] = exploded[team_col].str.split(', ')\n",
    "    exploded = exploded.explode('player_name')\n",
    "    exploded = exploded.dropna(subset=['player_name'])\n",
    "    exploded['season_year'] = pd.to_datetime(exploded['date']).dt.year\n",
    "    exploded.rename(columns={team_id_col: 'team_id'}, inplace=True)\n",
    "    return exploded[['match_id', 'team_id', 'player_name', 'season_year']]"
   ]
  },
  {
   "cell_type": "code",
   "execution_count": 62,
   "id": "ff7fbd8f",
   "metadata": {},
   "outputs": [],
   "source": [
    "team1_df = explode_players(match_data, 'team1_players', 'team1_id')\n",
    "team2_df = explode_players(match_data, 'team2_players', 'team2_id')\n",
    "all_players_df = pd.concat([team1_df, team2_df])"
   ]
  },
  {
   "cell_type": "code",
   "execution_count": 63,
   "id": "2e7300ef",
   "metadata": {},
   "outputs": [
    {
     "name": "stdout",
     "output_type": "stream",
     "text": [
      "   match_id  team_id      player_name  season_year\n",
      "0        16     18.0     AC Gilchrist         2008\n",
      "0        16     18.0  Y Venugopal Rao         2008\n",
      "0        16     18.0       VVS Laxman         2008\n",
      "0        16     18.0        A Symonds         2008\n",
      "0        16     18.0        RG Sharma         2008\n"
     ]
    }
   ],
   "source": [
    "print(all_players_df.head())"
   ]
  },
  {
   "cell_type": "code",
   "execution_count": 65,
   "id": "b2aea51d",
   "metadata": {},
   "outputs": [],
   "source": [
    "players_df['name_clean'] = players_df['name'].str.upper().str.strip()\n",
    "players_df['display_name_clean'] = players_df['display_name'].str.upper().str.strip()"
   ]
  },
  {
   "cell_type": "code",
   "execution_count": 66,
   "id": "d9e31206",
   "metadata": {},
   "outputs": [],
   "source": [
    "map_by_name = dict(zip(players_df['name_clean'], players_df['player_id']))\n",
    "map_by_display = dict(zip(players_df['display_name_clean'], players_df['player_id']))"
   ]
  },
  {
   "cell_type": "code",
   "execution_count": 67,
   "id": "ef29c11f",
   "metadata": {},
   "outputs": [
    {
     "name": "stdout",
     "output_type": "stream",
     "text": [
      "Before drop: 38787\n"
     ]
    }
   ],
   "source": [
    "print(\"Before drop:\", all_players_df.shape[0])"
   ]
  },
  {
   "cell_type": "code",
   "execution_count": 68,
   "id": "be9015ec",
   "metadata": {},
   "outputs": [],
   "source": [
    "# Clean player_name from all_players_df\n",
    "all_players_df['player_name_clean'] = all_players_df['player_name'].str.upper().str.strip()\n",
    "\n",
    "# First try display_name match\n",
    "all_players_df['player_id'] = all_players_df['player_name_clean'].map(map_by_display)\n",
    "\n",
    "# For any still unmapped, try name match\n",
    "missing_mask = all_players_df['player_id'].isnull()\n",
    "all_players_df.loc[missing_mask, 'player_id'] = all_players_df.loc[missing_mask, 'player_name_clean'].map(map_by_name)"
   ]
  },
  {
   "cell_type": "code",
   "execution_count": 69,
   "id": "c019d2fe",
   "metadata": {},
   "outputs": [
    {
     "name": "stdout",
     "output_type": "stream",
     "text": [
      "❌ Still unmapped after double-checking both display_name and name: 19926\n",
      "player_name\n",
      "RV Uthappa         318\n",
      "SK Raina           305\n",
      "AT Rayudu          297\n",
      "KA Pollard         281\n",
      "AB de Villiers     279\n",
      "YK Pathan          272\n",
      "Harbhajan Singh    249\n",
      "G Gambhir          241\n",
      "DJ Bravo           228\n",
      "SR Watson          216\n",
      "Name: count, dtype: int64\n"
     ]
    }
   ],
   "source": [
    "missing_count = all_players_df['player_id'].isnull().sum()\n",
    "print(f\"❌ Still unmapped after double-checking both display_name and name: {missing_count}\")\n",
    "print(all_players_df[all_players_df['player_id'].isnull()]['player_name'].value_counts().head(10))"
   ]
  },
  {
   "cell_type": "code",
   "execution_count": 71,
   "id": "d3712016",
   "metadata": {},
   "outputs": [
    {
     "name": "stdout",
     "output_type": "stream",
     "text": [
      "   match_id  team_id      player_name  season_year  player_id  \\\n",
      "0        16     18.0     AC Gilchrist         2008        NaN   \n",
      "0        16     18.0  Y Venugopal Rao         2008        NaN   \n",
      "0        16     18.0       VVS Laxman         2008        NaN   \n",
      "0        16     18.0        A Symonds         2008        NaN   \n",
      "0        16     18.0        RG Sharma         2008      151.0   \n",
      "\n",
      "  player_name_clean  \n",
      "0      AC GILCHRIST  \n",
      "0   Y VENUGOPAL RAO  \n",
      "0        VVS LAXMAN  \n",
      "0         A SYMONDS  \n",
      "0         RG SHARMA  \n"
     ]
    }
   ],
   "source": [
    "print(all_players_df.head())"
   ]
  },
  {
   "cell_type": "code",
   "execution_count": 72,
   "id": "2fe86215",
   "metadata": {},
   "outputs": [],
   "source": [
    "# Step 1: Drop unmatched players\n",
    "final_match_players = all_players_df.dropna(subset=['player_id', 'match_id', 'team_id']).copy()\n",
    "\n",
    "# Step 2: Convert to integer\n",
    "final_match_players['player_id'] = final_match_players['player_id'].astype(int)\n",
    "final_match_players['match_id'] = final_match_players['match_id'].astype(int)\n",
    "final_match_players['team_id'] = final_match_players['team_id'].astype(int)\n",
    "\n",
    "# Step 4: Add is_playing column\n",
    "final_match_players['is_playing'] = True\n",
    "\n",
    "# Step 5: Select only relevant columns\n",
    "final_match_players = final_match_players[['match_id', 'team_id', 'player_id', 'season_year', 'is_playing']]\n"
   ]
  },
  {
   "cell_type": "code",
   "execution_count": 73,
   "id": "93d36a9a",
   "metadata": {},
   "outputs": [
    {
     "name": "stdout",
     "output_type": "stream",
     "text": [
      "   match_id  team_id  player_id  season_year  is_playing\n",
      "0        16       18        151         2008        True\n",
      "1        17       17         89         2010        True\n",
      "1        17       17        223         2010        True\n",
      "2        18       16         68         2024        True\n",
      "2        18       16         67         2024        True\n"
     ]
    }
   ],
   "source": [
    "print(final_match_players.head())"
   ]
  },
  {
   "cell_type": "code",
   "execution_count": 74,
   "id": "064e880d",
   "metadata": {},
   "outputs": [],
   "source": [
    "final_match_players.to_csv('cleaned_match_players.csv', index=False)"
   ]
  },
  {
   "cell_type": "code",
   "execution_count": null,
   "id": "a5044d77",
   "metadata": {},
   "outputs": [],
   "source": []
  }
 ],
 "metadata": {
  "kernelspec": {
   "display_name": "venv",
   "language": "python",
   "name": "python3"
  },
  "language_info": {
   "codemirror_mode": {
    "name": "ipython",
    "version": 3
   },
   "file_extension": ".py",
   "mimetype": "text/x-python",
   "name": "python",
   "nbconvert_exporter": "python",
   "pygments_lexer": "ipython3",
   "version": "3.13.1"
  }
 },
 "nbformat": 4,
 "nbformat_minor": 5
}
